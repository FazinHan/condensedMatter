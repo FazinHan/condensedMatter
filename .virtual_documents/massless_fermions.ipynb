








import numpy as np
import os
import matplotlib.pyplot as plt
from scipy.interpolate import CubicSpline





num = 1

while os.path.isfile(f'./output data/g_vs_eta_L{num}.npz'):
    num += 1

print(f'./output data/g_vs_eta_L{num-1}.npz')


with open(f'./output data/g_vs_eta_L{num-1}.npz', 'rb') as file:
    arrs = dict(np.load(file))


# plt.plot(arrs['eta'], arrs['g_vs_eta'],'.',label='true') # almost straight line with semilogy
# plt.legend()
# plt.xlabel('$\eta$')
# plt.title('g vs $\eta$')
# plt.ylabel('g')
# plt.savefig('.\\graphics\\g_vs_η.png')





from sympy import *


def fermi_dirac(E, Ef=0, T=0):
    k_B = 1
    if T==0:
        if E > Ef:
            return 0
        elif E == Ef:
            return .5
        elif E < Ef:
            return 1
    return 1/(1+exp((E-Ef)/k_B/T))





kx, ky, vf, kx_, ky_, T = symbols("k_x k_y v_F k^'_x k^'_y T", real=True)
sx = Matrix([[0,1],[1,0]])


H = Matrix([[0,kx-I*ky],[kx+I*ky,0]])*vf
H_ = Matrix([[0,kx_-I*ky_],[kx_+I*ky_,0]])*vf
n = H.eigenvects()
En = [i[0] for i in n]
n = [Matrix(i[2][0]) for i in n]
n_ = H_.eigenvects()
En_ = [i[0] for i in n_]
n_ = [Matrix(i[2][0]) for i in n_]
reqd = []


for i, j in zip([0,1,0,1],[0,0,1,1]):
    reqd.append( [ (n[i].T.conjugate()*sx*n_[j]) * (n_[j].T.conjugate()*sx*n[i]) , En[i]-En_[j] ] )





H = Matrix([[0,kx-I*ky],[kx+I*ky,0]])*vf
# H_ = Matrix([[0,kx_-I*ky_],[kx_+I*ky_,0]])*vf
n = H.eigenvects()
En = [i[0] for i in n]
n = [Matrix(i[2][0]) for i in n]
n_ = H.eigenvects()
En_ = [i[0] for i in n_]
n_ = [Matrix(i[2][0]) for i in n_]


for i, j in zip([0,1,0,1],[0,0,1,1]):
    if En[i]!=En[j]:
        display(simplify((n[i].T.conjugate()*sx*n_[j]) * (n_[j].T.conjugate()*sx*n[i])) , (fermi_dirac(En[i],T=T)-fermi_dirac(En[j],T=T))/(En[i]-En_[j]))





def bring_in():
    num = 1

    while os.path.isfile(f'./output data/shivay output/g_vs_eta_L{num}.npz'):
        num += 1

    print(f'./output data/shivay output/g_vs_eta_L{num}.npz')

    print('go to the jupyter server terminal  window')

    os.system(f'scp -P 4422 -r fizaank.phy21.iitbhu@paramshivay.iitbhu.ac.in:/home/fizaank.phy21.iitbhu/massless_fermion/output_data/g_vs_eta_L{num}.npz "./output data/shivay output/"')

def send_out():
    print('go to the jupyter server terminal  window')
    os.system(f'scp -P 4422 -r g_vs_eta_L_new.py fizaank.phy21.iitbhu@paramshivay.iitbhu.ac.in:/home/fizaank.phy21.iitbhu/massless_fermion')





# bring_in()


# send_out()





num = 1

while os.path.isfile(f'./output data/shivay output/g_vs_eta_L{num}.npz'):
    num += 1

with open(f'./output data/shivay output/g_vs_eta_L{num-1}.npz', 'rb') as file:
    print(f'./output data/shivay output/g_vs_eta_L{num-1}.npz')
    arrs = dict(np.load(file))

L = arrs['L']
g = arrs['g_vs_L']


plt.loglog(L[1:],g[1:],'.')
plt.xlabel('L')
plt.ylabel('g')
plt.show()


cs = CubicSpline(L,g)
b = cs(L, 1)
plt.plot(g, b,'.')
plt.xlabel('g')
plt.ylabel('$\\beta$')
plt.show()


eta = arrs['eta']
g = arrs['g_vs_eta']


plt.plot(eta/(2*np.pi),g,'.')
plt.xlabel('$\eta\cdot L/2\pi v_F$')
plt.ylabel('g')
plt.show()




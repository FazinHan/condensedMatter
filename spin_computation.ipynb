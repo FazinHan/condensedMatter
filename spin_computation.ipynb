{
 "cells": [
  {
   "cell_type": "code",
   "execution_count": 28,
   "id": "9c363461-5ee4-4b55-87c0-e392c1c40d3a",
   "metadata": {},
   "outputs": [],
   "source": [
    "import numpy as np\n",
    "import matplotlib.pyplot as plt\n",
    "import pandas as pd"
   ]
  },
  {
   "cell_type": "code",
   "execution_count": 29,
   "id": "d60a42aa-e140-4c27-9bc7-9053dda14166",
   "metadata": {},
   "outputs": [],
   "source": [
    "show = pd.DataFrame"
   ]
  },
  {
   "cell_type": "code",
   "execution_count": 40,
   "id": "60792855-ced8-4caa-ba6b-2bceea29be29",
   "metadata": {},
   "outputs": [],
   "source": [
    "N = 5\n",
    "Δ = 3"
   ]
  },
  {
   "cell_type": "code",
   "execution_count": 17,
   "id": "c6cabc6d-6003-4493-a32d-0847af12397c",
   "metadata": {},
   "outputs": [],
   "source": [
    "s0 = np.eye(2,2)\n",
    "sx = np.array([[0,1],[1,0]])\n",
    "sy = np.array([[0,-1j],[1j,0]])\n",
    "sz = np.array([[1,0],[0,-1]])\n",
    "\n",
    "basis0 = np.array([[1],[0]])\n",
    "basis1 = np.array([[0],[1]])"
   ]
  },
  {
   "cell_type": "code",
   "execution_count": 36,
   "id": "ea355e2f-9159-4c31-b9f2-d37be1cbd38c",
   "metadata": {},
   "outputs": [
    {
     "data": {
      "text/html": [
       "<div>\n",
       "<style scoped>\n",
       "    .dataframe tbody tr th:only-of-type {\n",
       "        vertical-align: middle;\n",
       "    }\n",
       "\n",
       "    .dataframe tbody tr th {\n",
       "        vertical-align: top;\n",
       "    }\n",
       "\n",
       "    .dataframe thead th {\n",
       "        text-align: right;\n",
       "    }\n",
       "</style>\n",
       "<table border=\"1\" class=\"dataframe\">\n",
       "  <thead>\n",
       "    <tr style=\"text-align: right;\">\n",
       "      <th></th>\n",
       "      <th>0</th>\n",
       "      <th>1</th>\n",
       "    </tr>\n",
       "  </thead>\n",
       "  <tbody>\n",
       "    <tr>\n",
       "      <th>0</th>\n",
       "      <td>1.0</td>\n",
       "      <td>0.0</td>\n",
       "    </tr>\n",
       "    <tr>\n",
       "      <th>1</th>\n",
       "      <td>0.0</td>\n",
       "      <td>1.0</td>\n",
       "    </tr>\n",
       "  </tbody>\n",
       "</table>\n",
       "</div>"
      ],
      "text/plain": [
       "     0    1\n",
       "0  1.0  0.0\n",
       "1  0.0  1.0"
      ]
     },
     "execution_count": 36,
     "metadata": {},
     "output_type": "execute_result"
    }
   ],
   "source": [
    "show(s0)"
   ]
  },
  {
   "cell_type": "code",
   "execution_count": 37,
   "id": "98cf446b-49de-444f-890c-8c4a78790a3b",
   "metadata": {},
   "outputs": [
    {
     "data": {
      "text/html": [
       "<div>\n",
       "<style scoped>\n",
       "    .dataframe tbody tr th:only-of-type {\n",
       "        vertical-align: middle;\n",
       "    }\n",
       "\n",
       "    .dataframe tbody tr th {\n",
       "        vertical-align: top;\n",
       "    }\n",
       "\n",
       "    .dataframe thead th {\n",
       "        text-align: right;\n",
       "    }\n",
       "</style>\n",
       "<table border=\"1\" class=\"dataframe\">\n",
       "  <thead>\n",
       "    <tr style=\"text-align: right;\">\n",
       "      <th></th>\n",
       "      <th>0</th>\n",
       "      <th>1</th>\n",
       "    </tr>\n",
       "  </thead>\n",
       "  <tbody>\n",
       "    <tr>\n",
       "      <th>0</th>\n",
       "      <td>0</td>\n",
       "      <td>1</td>\n",
       "    </tr>\n",
       "    <tr>\n",
       "      <th>1</th>\n",
       "      <td>1</td>\n",
       "      <td>0</td>\n",
       "    </tr>\n",
       "  </tbody>\n",
       "</table>\n",
       "</div>"
      ],
      "text/plain": [
       "   0  1\n",
       "0  0  1\n",
       "1  1  0"
      ]
     },
     "execution_count": 37,
     "metadata": {},
     "output_type": "execute_result"
    }
   ],
   "source": [
    "show(sx)"
   ]
  },
  {
   "cell_type": "code",
   "execution_count": 38,
   "id": "64670f31-49e1-46e5-aff7-7f33f0ae6551",
   "metadata": {},
   "outputs": [
    {
     "data": {
      "text/html": [
       "<div>\n",
       "<style scoped>\n",
       "    .dataframe tbody tr th:only-of-type {\n",
       "        vertical-align: middle;\n",
       "    }\n",
       "\n",
       "    .dataframe tbody tr th {\n",
       "        vertical-align: top;\n",
       "    }\n",
       "\n",
       "    .dataframe thead th {\n",
       "        text-align: right;\n",
       "    }\n",
       "</style>\n",
       "<table border=\"1\" class=\"dataframe\">\n",
       "  <thead>\n",
       "    <tr style=\"text-align: right;\">\n",
       "      <th></th>\n",
       "      <th>0</th>\n",
       "      <th>1</th>\n",
       "    </tr>\n",
       "  </thead>\n",
       "  <tbody>\n",
       "    <tr>\n",
       "      <th>0</th>\n",
       "      <td>0.0+0.0j</td>\n",
       "      <td>-0.0-1.0j</td>\n",
       "    </tr>\n",
       "    <tr>\n",
       "      <th>1</th>\n",
       "      <td>0.0+1.0j</td>\n",
       "      <td>0.0+0.0j</td>\n",
       "    </tr>\n",
       "  </tbody>\n",
       "</table>\n",
       "</div>"
      ],
      "text/plain": [
       "          0         1\n",
       "0  0.0+0.0j -0.0-1.0j\n",
       "1  0.0+1.0j  0.0+0.0j"
      ]
     },
     "execution_count": 38,
     "metadata": {},
     "output_type": "execute_result"
    }
   ],
   "source": [
    "show(sy)"
   ]
  },
  {
   "cell_type": "code",
   "execution_count": 39,
   "id": "6151261a-49d7-4bce-8d76-53563ed347f2",
   "metadata": {},
   "outputs": [
    {
     "data": {
      "text/html": [
       "<div>\n",
       "<style scoped>\n",
       "    .dataframe tbody tr th:only-of-type {\n",
       "        vertical-align: middle;\n",
       "    }\n",
       "\n",
       "    .dataframe tbody tr th {\n",
       "        vertical-align: top;\n",
       "    }\n",
       "\n",
       "    .dataframe thead th {\n",
       "        text-align: right;\n",
       "    }\n",
       "</style>\n",
       "<table border=\"1\" class=\"dataframe\">\n",
       "  <thead>\n",
       "    <tr style=\"text-align: right;\">\n",
       "      <th></th>\n",
       "      <th>0</th>\n",
       "      <th>1</th>\n",
       "    </tr>\n",
       "  </thead>\n",
       "  <tbody>\n",
       "    <tr>\n",
       "      <th>0</th>\n",
       "      <td>1</td>\n",
       "      <td>0</td>\n",
       "    </tr>\n",
       "    <tr>\n",
       "      <th>1</th>\n",
       "      <td>0</td>\n",
       "      <td>-1</td>\n",
       "    </tr>\n",
       "  </tbody>\n",
       "</table>\n",
       "</div>"
      ],
      "text/plain": [
       "   0  1\n",
       "0  1  0\n",
       "1  0 -1"
      ]
     },
     "execution_count": 39,
     "metadata": {},
     "output_type": "execute_result"
    }
   ],
   "source": [
    "show(sz)"
   ]
  },
  {
   "cell_type": "code",
   "execution_count": 19,
   "id": "88d3eab4-fdea-4023-a55e-f863af5fbfae",
   "metadata": {},
   "outputs": [
    {
     "data": {
      "text/plain": [
       "(array([[1],\n",
       "        [0]]),\n",
       " array([[0],\n",
       "        [1]]))"
      ]
     },
     "execution_count": 19,
     "metadata": {},
     "output_type": "execute_result"
    }
   ],
   "source": [
    "basis0, basis1"
   ]
  },
  {
   "cell_type": "code",
   "execution_count": 45,
   "id": "63368304-bf2f-48e7-b3fd-f3fc6040df8b",
   "metadata": {},
   "outputs": [],
   "source": [
    "def spin_operator(spin_matrix, position):\n",
    "    s = [s0, sx, sy, sz]\n",
    "    S_i = s[spin_matrix] if position==0 else s0\n",
    "    for i in range(1,N):\n",
    "        S_i = np.kron(S_i, s0 if i != position else s[spin_matrix])\n",
    "    return S_i"
   ]
  },
  {
   "cell_type": "markdown",
   "id": "7ec1a517-8826-47ee-9d4d-fd8a673ab61a",
   "metadata": {},
   "source": [
    "### Open Boundary"
   ]
  },
  {
   "cell_type": "code",
   "execution_count": 46,
   "id": "aa45f0cd-72b8-4148-a78c-760b61454e5b",
   "metadata": {},
   "outputs": [],
   "source": [
    "H = spin_operator(1,0)@spin_operator(1,1) + spin_operator(2,0)@spin_operator(2,1) + Δ*spin_operator(3,0)@spin_operator(3,1)\n",
    "\n",
    "for i in range(1,N):\n",
    "    H += spin_operator(1,i)@spin_operator(1,i+1) + spin_operator(2,i)@spin_operator(2,i+1) + Δ*spin_operator(3,i)@spin_operator(3,i+1)"
   ]
  },
  {
   "cell_type": "code",
   "execution_count": 48,
   "id": "65736b20-35ff-407a-b945-0d8877e06481",
   "metadata": {},
   "outputs": [
    {
     "data": {
      "text/plain": [
       "array([-16.7615807 , -13.03014287, -11.28192377,  -9.53172632,\n",
       "        -7.82937351,  -7.13195475,  -7.12272586,  -5.58752463,\n",
       "        -4.8482691 ,  -4.2701781 ,  -3.23356191,  -2.68623384,\n",
       "        -2.2518989 ,  -1.23557292,  -0.36956382,   0.24864358,\n",
       "         0.54946768,   1.4203986 ,   2.05706241,   2.42344571,\n",
       "         3.1746348 ,   4.03927537,   4.14001451,   4.99831886,\n",
       "         5.26717379,   6.48055299,   7.74699636,   9.47165694,\n",
       "         9.55278351,   9.83651962,  10.59616689,  15.16911939])"
      ]
     },
     "execution_count": 48,
     "metadata": {},
     "output_type": "execute_result"
    }
   ],
   "source": [
    "np.linalg.eigvalsh(H)"
   ]
  },
  {
   "cell_type": "code",
   "execution_count": null,
   "id": "c90004e1-1ffd-442c-b1f8-a66f533c4bf1",
   "metadata": {},
   "outputs": [],
   "source": []
  }
 ],
 "metadata": {
  "kernelspec": {
   "display_name": "Python 3 (ipykernel)",
   "language": "python",
   "name": "python3"
  },
  "language_info": {
   "codemirror_mode": {
    "name": "ipython",
    "version": 3
   },
   "file_extension": ".py",
   "mimetype": "text/x-python",
   "name": "python",
   "nbconvert_exporter": "python",
   "pygments_lexer": "ipython3",
   "version": "3.11.4"
  }
 },
 "nbformat": 4,
 "nbformat_minor": 5
}

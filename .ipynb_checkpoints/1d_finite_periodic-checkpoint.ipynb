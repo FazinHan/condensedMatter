{
 "cells": [
  {
   "cell_type": "code",
   "execution_count": 1,
   "id": "73c8f30b-25d3-4707-a42e-96693fe05793",
   "metadata": {},
   "outputs": [],
   "source": [
    "import numpy as np\n",
    "import scipy.linalg as linalg\n",
    "import matplotlib.pyplot as plt"
   ]
  },
  {
   "cell_type": "code",
   "execution_count": 2,
   "id": "23f7bd15-40be-4f0b-8a61-aeef50b2a6b3",
   "metadata": {},
   "outputs": [],
   "source": [
    "L = 500\n",
    "t = -1"
   ]
  },
  {
   "cell_type": "code",
   "execution_count": 3,
   "id": "689f52d1-38b8-4771-823c-e447ae546a63",
   "metadata": {},
   "outputs": [],
   "source": [
    "def diagonalise(matrix):\n",
    "    vals, _ = linalg.eig(matrix)\n",
    "    diag = np.eye(matrix.shape[0])\n",
    "    for i in range(matrix.shape[0]):\n",
    "        diag[i,i]=vals[i]\n",
    "    return diag"
   ]
  },
  {
   "cell_type": "code",
   "execution_count": 9,
   "id": "ab1a964f-4586-44f6-86f5-bf02473ce450",
   "metadata": {},
   "outputs": [
    {
     "name": "stdout",
     "output_type": "stream",
     "text": [
      "[[0. 1. 0. ... 0. 0. 0.]\n",
      " [0. 0. 1. ... 0. 0. 0.]\n",
      " [0. 0. 0. ... 0. 0. 0.]\n",
      " ...\n",
      " [0. 0. 0. ... 0. 1. 0.]\n",
      " [0. 0. 0. ... 0. 0. 1.]\n",
      " [1. 0. 0. ... 0. 0. 0.]]\n"
     ]
    }
   ],
   "source": [
    "U = np.zeros((L,L))\n",
    "\n",
    "for i in range(L):\n",
    "    for j in range(L):\n",
    "        if i+1==j:\n",
    "            U[i,j]=1\n",
    "else:\n",
    "    U[-1,0]=1\n",
    "\n",
    "print(U)"
   ]
  },
  {
   "cell_type": "code",
   "execution_count": 10,
   "id": "ebe8dfd0-62cf-4eaf-b99a-2ee0455749a9",
   "metadata": {},
   "outputs": [],
   "source": [
    "H = (U + U.conj().T)*(-t)"
   ]
  },
  {
   "cell_type": "code",
   "execution_count": 11,
   "id": "d43e29c4-c709-4005-ae79-4e9d606efeda",
   "metadata": {},
   "outputs": [],
   "source": [
    "vals, vecs = linalg.eig(U)\n",
    "# print(vals)\n",
    "# print(np.round(vecs,3))"
   ]
  },
  {
   "cell_type": "code",
   "execution_count": 12,
   "id": "2f38eccb-2326-40be-9f2d-600d1a1a7759",
   "metadata": {},
   "outputs": [
    {
     "name": "stdout",
     "output_type": "stream",
     "text": [
      "[[-1.6471  0.     -0.     ... -0.      0.     -0.    ]\n",
      " [ 0.     -1.6471  0.     ... -0.      0.      0.    ]\n",
      " [-0.      0.     -1.6327 ...  0.      0.     -0.    ]\n",
      " ...\n",
      " [ 0.      0.      0.     ...  1.9994  0.     -0.    ]\n",
      " [-0.     -0.      0.     ... -0.      1.9998 -0.    ]\n",
      " [-0.      0.      0.     ...  0.     -0.      1.9998]]\n"
     ]
    }
   ],
   "source": [
    "# np.round(np.linalg.inv(vecs)@U@vecs,3)\n",
    "Htilde = np.round(np.linalg.inv(vecs) @ H @ vecs,4).real\n",
    "print(Htilde)\n",
    "Hvals=np.linalg.eigh(H)[0]"
   ]
  },
  {
   "cell_type": "code",
   "execution_count": 13,
   "id": "76db284b-307b-450f-a1e5-f98f332dd0eb",
   "metadata": {},
   "outputs": [
    {
     "data": {
      "image/png": "[encoded data removed]",
      "text/plain": [
       "<Figure size 640x480 with 1 Axes>"
      ]
     },
     "metadata": {},
     "output_type": "display_data"
    }
   ],
   "source": [
    "plt.plot(1j*np.log(vals),np.diag(Htilde),'.')\n",
    "# plt.plot(1j*np.log(vals),Hvals,'.')\n",
    "plt.show()"
   ]
  },
  {
   "cell_type": "code",
   "execution_count": null,
   "id": "e7fdd765-07a5-49fd-a588-88eb1e6454b9",
   "metadata": {},
   "outputs": [],
   "source": []
  }
 ],
 "metadata": {
  "kernelspec": {
   "display_name": "Python 3 (ipykernel)",
   "language": "python",
   "name": "python3"
  },
  "language_info": {
   "codemirror_mode": {
    "name": "ipython",
    "version": 3
   },
   "file_extension": ".py",
   "mimetype": "text/x-python",
   "name": "python",
   "nbconvert_exporter": "python",
   "pygments_lexer": "ipython3",
   "version": "3.11.4"
  }
 },
 "nbformat": 4,
 "nbformat_minor": 5
}

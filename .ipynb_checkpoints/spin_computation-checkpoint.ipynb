{
 "cells": [
  {
   "cell_type": "code",
   "execution_count": 28,
   "id": "9c363461-5ee4-4b55-87c0-e392c1c40d3a",
   "metadata": {},
   "outputs": [],
   "source": [
    "import numpy as np\n",
    "import matplotlib.pyplot as plt\n",
    "import pandas as pd"
   ]
  },
  {
   "cell_type": "code",
   "execution_count": 29,
   "id": "d60a42aa-e140-4c27-9bc7-9053dda14166",
   "metadata": {},
   "outputs": [],
   "source": [
    "show = pd.DataFrame"
   ]
  },
  {
   "cell_type": "code",
   "execution_count": 31,
   "id": "60792855-ced8-4caa-ba6b-2bceea29be29",
   "metadata": {},
   "outputs": [],
   "source": [
    "N = 2"
   ]
  },
  {
   "cell_type": "code",
   "execution_count": 17,
   "id": "c6cabc6d-6003-4493-a32d-0847af12397c",
   "metadata": {},
   "outputs": [],
   "source": [
    "s0 = np.eye(2,2)\n",
    "sx = np.array([[0,1],[1,0]])\n",
    "sy = np.array([[0,-1j],[1j,0]])\n",
    "sz = np.array([[1,0],[0,-1]])\n",
    "\n",
    "basis0 = np.array([[1],[0]])\n",
    "basis1 = np.array([[0],[1]])"
   ]
  },
  {
   "cell_type": "code",
   "execution_count": 18,
   "id": "1dd3c382-0260-402c-83f6-de95d1871706",
   "metadata": {},
   "outputs": [
    {
     "data": {
      "text/plain": [
       "(array([[1., 0.],\n",
       "        [0., 1.]]),\n",
       " array([[0, 1],\n",
       "        [1, 0]]),\n",
       " array([[ 0.+0.j, -0.-1.j],\n",
       "        [ 0.+1.j,  0.+0.j]]),\n",
       " array([[ 1,  0],\n",
       "        [ 0, -1]]))"
      ]
     },
     "execution_count": 18,
     "metadata": {},
     "output_type": "execute_result"
    }
   ],
   "source": [
    "s0, sx, sy, sz"
   ]
  },
  {
   "cell_type": "code",
   "execution_count": 19,
   "id": "88d3eab4-fdea-4023-a55e-f863af5fbfae",
   "metadata": {},
   "outputs": [
    {
     "data": {
      "text/plain": [
       "(array([[1],\n",
       "        [0]]),\n",
       " array([[0],\n",
       "        [1]]))"
      ]
     },
     "execution_count": 19,
     "metadata": {},
     "output_type": "execute_result"
    }
   ],
   "source": [
    "basis0, basis1"
   ]
  },
  {
   "cell_type": "code",
   "execution_count": 22,
   "id": "63368304-bf2f-48e7-b3fd-f3fc6040df8b",
   "metadata": {},
   "outputs": [],
   "source": [
    "def spin_operator(spin_matrix, position):\n",
    "    S_i = spin_matrix if position==0 else s0\n",
    "    for i in range(N):\n",
    "        S_i = np.kron(S_i, s0 if i == position else spin_matrix)\n",
    "    return S_i"
   ]
  },
  {
   "cell_type": "code",
   "execution_count": null,
   "id": "9403201c-61fd-45f3-9265-25db9f7dff61",
   "metadata": {},
   "outputs": [],
   "source": []
  }
 ],
 "metadata": {
  "kernelspec": {
   "display_name": "Python 3 (ipykernel)",
   "language": "python",
   "name": "python3"
  },
  "language_info": {
   "codemirror_mode": {
    "name": "ipython",
    "version": 3
   },
   "file_extension": ".py",
   "mimetype": "text/x-python",
   "name": "python",
   "nbconvert_exporter": "python",
   "pygments_lexer": "ipython3",
   "version": "3.11.4"
  }
 },
 "nbformat": 4,
 "nbformat_minor": 5
}

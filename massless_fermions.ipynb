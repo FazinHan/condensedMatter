{
 "cells": [
  {
   "cell_type": "markdown",
   "id": "e898da7b-6ffd-49ef-8b85-93b54a0a5af9",
   "metadata": {},
   "source": [
    "### Notes\n",
    "> g is reasonably insensitive to $\\eta$ when $\\eta\\simeq\\langle\\Delta E\\rangle$\n",
    "- [Paper](./pdfs/0705.1607.pdf) in question\n",
    "- Simple eigenvectors of momentum space hamiltonian would not cut it (it is only the spin vectors), $|n\\rangle$ includes a tensor product with another vector, sir is unsure which.\n",
    "- [Reference on Thouless energy](./pdfs/PhysRevLett.98.076602.pdf) on the same Kubo formula, similar hamilitonian\n",
    "- [Text](./pdfs/Yoseph_Imry-Introduction_to_mesoscopic_physics-Oxford_University_Press.pdf) within reference\n",
    "    - [Eqn 5.2](./pdfs/Yoseph_Imry-Introduction_to_mesoscopic_physics-Oxford_University_Press.pdf#page=101) (last text on previous page)\n",
    "    - What is $\\Omega$?\n",
    "- [Reference](./pdfs/thouless1981.pdf#page=4) within reference\n",
    "- Real space is periodic, momentum is infinite with cut off of circle with radius $\\Lambda$\n",
    "- Figure out number of points inside circle (cf. notes after copy of paper in tablet)\n",
    "- Look up renormalization\n",
    "- Read [Pauli Equation](https://en.wikipedia.org/wiki/Pauli_equation)\n",
    "- Move to mathematica immediately\n",
    "- [Complex conductivity](http://qtp.ufl.edu/ofdft/research/KGECpaper.v6b.pdf)?\n",
    "- [Kubo wiki](https://en.wikipedia.org/wiki/Kubo_formula)"
   ]
  },
  {
   "cell_type": "markdown",
   "id": "0688fe25-851b-4282-864c-831e8f16342a",
   "metadata": {},
   "source": [
    "### Target plots\n",
    "\n",
    "![g vs L](.\\targets\\g_vs_L.png) ![$\\beta$ vs g](.\\targets\\beta_vs_g.png)"
   ]
  },
  {
   "cell_type": "markdown",
   "id": "420e30ec-defc-4c6a-801c-e358a36450fe",
   "metadata": {},
   "source": [
    "### Plot next \n",
    "\n",
    "Plot in figure 1c in [Thouless reference](./pdfs/PhysRevLett.98.076602.pdf#page=2): $g$ vs. $\\eta/\\delta E$\n",
    "\n",
    "$\\delta E = 1/L^2\\rho_F$\n",
    "\n",
    "Where $\\rho_F$ is the density of states at the Fermi level."
   ]
  },
  {
   "cell_type": "code",
   "execution_count": 1,
   "id": "0f52be1e-bba6-4f85-b048-16019a1bc9ef",
   "metadata": {},
   "outputs": [],
   "source": [
    "import numpy as np\n",
    "import os\n",
    "import matplotlib.pyplot as plt\n",
    "from scipy.interpolate import CubicSpline\n",
    "import math"
   ]
  },
  {
   "cell_type": "markdown",
   "id": "0284ebb5-29ff-4041-a34a-dff5caa2b1ca",
   "metadata": {},
   "source": [
    "- g vs η in 547.6213 seconds\n",
    "- g vs L in 543.1387 seconds\n",
    "\n",
    "with parallelisation\n",
    "- g vs η in 33.3108 seconds\n",
    "- g vs L in 35.3282 seconds\n",
    "\n",
    "k-space size 2000 with paralellisation:\n",
    "- g vs η in 573.7498 seconds\n",
    "- g vs L in 631.5431 seconds"
   ]
  },
  {
   "cell_type": "code",
   "execution_count": 2,
   "id": "567e6cbd-0e1e-4899-b267-ac5956d3c6d4",
   "metadata": {},
   "outputs": [
    {
     "name": "stdout",
     "output_type": "stream",
     "text": [
      "./output data/g_vs_eta_L9.npz\n"
     ]
    }
   ],
   "source": [
    "num = 1\n",
    "\n",
    "while os.path.isfile(f'./output data/g_vs_eta_L{num}.npz'):\n",
    "    num += 1\n",
    "\n",
    "print(f'./output data/g_vs_eta_L{num-1}.npz')"
   ]
  },
  {
   "cell_type": "code",
   "execution_count": 3,
   "id": "47e38fea-54d0-414a-b0c5-4a8571299c9e",
   "metadata": {},
   "outputs": [],
   "source": [
    "with open(f'./output data/g_vs_eta_L{num-1}.npz', 'rb') as file:\n",
    "    arrs = dict(np.load(file))"
   ]
  },
  {
   "cell_type": "code",
   "execution_count": 4,
   "id": "acda807d-e99f-4a02-b81f-80086681e2cd",
   "metadata": {},
   "outputs": [],
   "source": [
    "# plt.plot(arrs['eta'], arrs['g_vs_eta'],'.',label='true') # almost straight line with semilogy\n",
    "# plt.legend()\n",
    "# plt.xlabel('$\\eta$')\n",
    "# plt.title('g vs $\\eta$')\n",
    "# plt.ylabel('g')\n",
    "# plt.savefig('.\\\\graphics\\\\g_vs_η.png')"
   ]
  },
  {
   "cell_type": "markdown",
   "id": "2962bd87-42b6-4393-a0ce-5b3f11d74de5",
   "metadata": {},
   "source": [
    "### Sympy Approach\n",
    "\n",
    "Analytical"
   ]
  },
  {
   "cell_type": "code",
   "execution_count": 5,
   "id": "ea862977-a920-4a15-a075-a06bc852f626",
   "metadata": {},
   "outputs": [],
   "source": [
    "from sympy import *"
   ]
  },
  {
   "cell_type": "code",
   "execution_count": 6,
   "id": "46512cc4-baf5-4742-b1bf-ebf55fdd2a52",
   "metadata": {},
   "outputs": [],
   "source": [
    "def fermi_dirac(E, Ef=0, T=0):\n",
    "    k_B = 1\n",
    "    if T==0:\n",
    "        if E > Ef:\n",
    "            return 0\n",
    "        elif E == Ef:\n",
    "            return .5\n",
    "        elif E < Ef:\n",
    "            return 1\n",
    "    return 1/(1+exp((E-Ef)/k_B/T))"
   ]
  },
  {
   "cell_type": "markdown",
   "id": "3bd4499e-9661-4d28-8ddd-37b631d28754",
   "metadata": {},
   "source": [
    "If n and n' are over different points in k-space."
   ]
  },
  {
   "cell_type": "code",
   "execution_count": 7,
   "id": "2cc84cbf-b476-4d52-96d2-473e77b8d4a0",
   "metadata": {},
   "outputs": [],
   "source": [
    "kx, ky, v_F, kx_, ky_, T = symbols(\"k_x k_y v_F k^'_x k^'_y T\", real=True)\n",
    "sx = Matrix([[0,1],[1,0]])\n",
    "h_cut = 1"
   ]
  },
  {
   "cell_type": "code",
   "execution_count": 8,
   "id": "5be4f167-05e2-49aa-b463-8a1dcada83a0",
   "metadata": {},
   "outputs": [],
   "source": [
    "H = Matrix([[0,kx-I*ky],[kx+I*ky,0]])*v_F\n",
    "H_ = Matrix([[0,kx_-I*ky_],[kx_+I*ky_,0]])*v_F\n",
    "n = H.eigenvects()\n",
    "En = [i[0] for i in n]\n",
    "n = [Matrix(i[2][0]) for i in n]\n",
    "n_ = H_.eigenvects()\n",
    "En_ = [i[0] for i in n_]\n",
    "n_ = [Matrix(i[2][0]) for i in n_]\n",
    "reqd = []"
   ]
  },
  {
   "cell_type": "code",
   "execution_count": 9,
   "id": "ca78e015-b2e2-4fea-b2cf-d773fb3cac02",
   "metadata": {},
   "outputs": [],
   "source": [
    "for i, j in zip([0,1,0,1],[0,0,1,1]):\n",
    "    reqd.append( [ (n[i].T.conjugate()*sx*n_[j]) * (n_[j].T.conjugate()*sx*n[i]) , En[i]-En_[j] ] )"
   ]
  },
  {
   "cell_type": "markdown",
   "id": "32efc911-ac99-4a5f-a01b-b365a2c0dadb",
   "metadata": {},
   "source": [
    "If they're eigenvectors of the same point."
   ]
  },
  {
   "cell_type": "code",
   "execution_count": 10,
   "id": "6c2bc573-d799-4167-a9f7-2580e76c6e79",
   "metadata": {},
   "outputs": [
    {
     "data": {
      "text/latex": [
       "$\\displaystyle \\left[\\begin{matrix}- \\frac{2 k_{y}^{2} \\sqrt{k_{x}^{2} + k_{y}^{2}} \\tanh{\\left(7.95774715459477 \\cdot 10^{-9} \\sqrt{k_{x}^{2} + k_{y}^{2}} \\right)}}{\\left(k_{x} - i k_{y}\\right)^{2} \\left(k_{x} + i k_{y}\\right)^{2}}\\end{matrix}\\right]$"
      ],
      "text/plain": [
       "Matrix([[-2*k_y**2*sqrt(k_x**2 + k_y**2)*tanh(7.95774715459477e-9*sqrt(k_x**2 + k_y**2))/((k_x - I*k_y)**2*(k_x + I*k_y)**2)]])"
      ]
     },
     "execution_count": 10,
     "metadata": {},
     "output_type": "execute_result"
    }
   ],
   "source": [
    "H = Matrix([[0,kx-I*ky],[kx+I*ky,0]])*v_F\n",
    "n = H.eigenvects()\n",
    "En = [i[0] for i in n]\n",
    "n = [Matrix(i[2][0]) for i in n]\n",
    "n_ = H.eigenvects()\n",
    "En_ = [i[0] for i in n_]\n",
    "n_ = [Matrix(i[2][0]) for i in n_]\n",
    "solutions = []\n",
    "\n",
    "for i, j in zip([0,1,0,1],[0,0,1,1]):\n",
    "    if En[i]!=En[j]:\n",
    "        solutions.append(simplify((fermi_dirac(En[i],T=T)-fermi_dirac(En[j],T=T))/(En[i]-En_[j]) * (n[i].T.conjugate()*sx*n_[j]) * (n_[j].T.conjugate()*sx*n[i])))\n",
    "        # solutions.append()\n",
    "\n",
    "solution = solutions[0]\n",
    "solution = solution.subs({v_F:1, T:1e7*1*2*np.pi})\n",
    "# from scipy import lambdify\n",
    "Lambda = lambda L: 20*2*np.pi/L\n",
    "lamda = Lambda(1000)\n",
    "k_space_size = 200\n",
    "k = np.linspace(-lamda, lamda, k_space_size)\n",
    "kxx, kyy = np.meshgrid(k,k)\n",
    "\n",
    "solution"
   ]
  },
  {
   "cell_type": "code",
   "execution_count": 11,
   "id": "2f82d63d-4e53-4dce-a9fb-f443a5cccb47",
   "metadata": {},
   "outputs": [
    {
     "name": "stdout",
     "output_type": "stream",
     "text": [
      "lambda k_x,k_y: (-2*k_y**2*sqrt(k_x**2 + k_y**2)*math.tanh(7.95774715459477e-9*sqrt(k_x**2 + k_y**2))/((k_x - 1j*k_y)**2*(k_x + 1j*k_y)**2))\n"
     ]
    },
    {
     "data": {
      "text/latex": [
       "$\\displaystyle 3.53553390593274 \\cdot 10^{-10} \\sqrt{2} i$"
      ],
      "text/plain": [
       "3.53553390593274e-10*sqrt(2)*I"
      ]
     },
     "execution_count": 11,
     "metadata": {},
     "output_type": "execute_result"
    }
   ],
   "source": [
    "from sympy.utilities.lambdify import lambdastr\n",
    "\n",
    "g_part = lambdastr((kx,ky),solution[0])\n",
    "print(g_part)\n",
    "g = lambda k_x, k_y, L:-2*1j*np.pi*h_cut**2/L**2*eval(g_part)(k_x,k_y)\n",
    "\n",
    "g(1,1,10)"
   ]
  },
  {
   "cell_type": "markdown",
   "id": "6d40cb79-fec3-4b4c-92da-15662fe50e27",
   "metadata": {},
   "source": [
    "### Shivay file transfer functions"
   ]
  },
  {
   "cell_type": "code",
   "execution_count": 12,
   "id": "a4100a5e-ba22-4b30-ac4f-d553a6654a32",
   "metadata": {},
   "outputs": [],
   "source": [
    "def bring_in():\n",
    "    num = 1\n",
    "\n",
    "    while os.path.isfile(f'./output data/shivay output/g_vs_eta_L{num}.npz'):\n",
    "        num += 1\n",
    "\n",
    "    print(f'./output data/shivay output/g_vs_eta_L{num}.npz')\n",
    "\n",
    "    print('go to the jupyter server terminal window')\n",
    "\n",
    "    os.system(f'scp -P 4422 -r fizaank.phy21.iitbhu@paramshivay.iitbhu.ac.in:/home/fizaank.phy21.iitbhu/massless_fermion/output_data/g_vs_eta_L{num}.npz \"./output data/shivay output/\"')\n",
    "\n",
    "def send_out():\n",
    "    print('go to the jupyter server terminal window')\n",
    "    os.system(f'scp -P 4422 -r g_vs_eta_L_new.py fizaank.phy21.iitbhu@paramshivay.iitbhu.ac.in:/home/fizaank.phy21.iitbhu/massless_fermion')"
   ]
  },
  {
   "cell_type": "markdown",
   "id": "f77293cd-e117-4b1c-adb9-7f949a7af410",
   "metadata": {},
   "source": [
    "#### Transfers"
   ]
  },
  {
   "cell_type": "code",
   "execution_count": 13,
   "id": "32eb1d44-3ea9-403b-aa7d-bacbfe09e08b",
   "metadata": {},
   "outputs": [],
   "source": [
    "# bring_in()"
   ]
  },
  {
   "cell_type": "code",
   "execution_count": 14,
   "id": "1f12df4a-a766-40aa-a6fe-e99435e08ac3",
   "metadata": {
    "scrolled": true
   },
   "outputs": [],
   "source": [
    "# send_out()"
   ]
  },
  {
   "cell_type": "markdown",
   "id": "360d345d-afbd-4a2a-ad39-b8b48e0a1e81",
   "metadata": {},
   "source": [
    "### Plots"
   ]
  },
  {
   "cell_type": "code",
   "execution_count": 15,
   "id": "2ac001ce-c89a-4b58-b65b-d269f7d083fe",
   "metadata": {},
   "outputs": [
    {
     "name": "stdout",
     "output_type": "stream",
     "text": [
      "./output data/shivay output/g_vs_eta_L7.npz\n"
     ]
    }
   ],
   "source": [
    "num = 1\n",
    "\n",
    "while os.path.isfile(f'./output data/shivay output/g_vs_eta_L{num}.npz'):\n",
    "    num += 1\n",
    "\n",
    "with open(f'./output data/shivay output/g_vs_eta_L{num-1}.npz', 'rb') as file:\n",
    "    print(f'./output data/shivay output/g_vs_eta_L{num-1}.npz')\n",
    "    arrs = dict(np.load(file))\n",
    "\n",
    "L = arrs['L']\n",
    "g = arrs['g_vs_L']"
   ]
  },
  {
   "cell_type": "code",
   "execution_count": 16,
   "id": "12d97567-c511-45b7-aac4-1d760a20fa89",
   "metadata": {},
   "outputs": [
    {
     "name": "stderr",
     "output_type": "stream",
     "text": [
      "C:\\Users\\freak\\anaconda3\\Lib\\site-packages\\matplotlib\\cbook\\__init__.py:1335: ComplexWarning: Casting complex values to real discards the imaginary part\n",
      "  return np.asarray(x, float)\n"
     ]
    },
    {
     "data": {
      "image/png": "[encoded data removed]",
      "text/plain": [
       "<Figure size 640x480 with 1 Axes>"
      ]
     },
     "metadata": {},
     "output_type": "display_data"
    }
   ],
   "source": [
    "plt.loglog(L[1:],g[1:],'.')\n",
    "plt.xlabel('L')\n",
    "plt.ylabel('g')\n",
    "plt.show()"
   ]
  },
  {
   "cell_type": "code",
   "execution_count": 17,
   "id": "8aa8870c-6558-4ff4-83e6-781f38fc0037",
   "metadata": {},
   "outputs": [
    {
     "data": {
      "image/png": "[encoded data removed]",
      "text/plain": [
       "<Figure size 640x480 with 1 Axes>"
      ]
     },
     "metadata": {},
     "output_type": "display_data"
    }
   ],
   "source": [
    "cs = CubicSpline(L,g)\n",
    "b = cs(L, 1)\n",
    "plt.plot(g, g/L*b,'.')\n",
    "plt.xlabel('g')\n",
    "plt.ylabel('$\\\\beta$')\n",
    "plt.show()"
   ]
  },
  {
   "cell_type": "code",
   "execution_count": 18,
   "id": "9be33744-1ac3-4f98-9264-f25d9fbcbdee",
   "metadata": {},
   "outputs": [],
   "source": [
    "eta = arrs['eta']\n",
    "g = arrs['g_vs_eta']"
   ]
  },
  {
   "cell_type": "code",
   "execution_count": 19,
   "id": "af40187b-6ac9-451c-9a8c-7427d44bff49",
   "metadata": {},
   "outputs": [
    {
     "data": {
      "image/png": "[encoded data removed]",
      "text/plain": [
       "<Figure size 640x480 with 1 Axes>"
      ]
     },
     "metadata": {},
     "output_type": "display_data"
    }
   ],
   "source": [
    "plt.plot(eta/(2*np.pi),g,'.')\n",
    "plt.xlabel('$\\eta\\cdot L/2\\pi v_F$')\n",
    "plt.ylabel('g')\n",
    "plt.show()"
   ]
  },
  {
   "cell_type": "code",
   "execution_count": null,
   "id": "4814e4ee-75fe-4bec-a1f0-d9c638cac915",
   "metadata": {},
   "outputs": [],
   "source": []
  }
 ],
 "metadata": {
  "kernelspec": {
   "display_name": "Python 3 (ipykernel)",
   "language": "python",
   "name": "python3"
  },
  "language_info": {
   "codemirror_mode": {
    "name": "ipython",
    "version": 3
   },
   "file_extension": ".py",
   "mimetype": "text/x-python",
   "name": "python",
   "nbconvert_exporter": "python",
   "pygments_lexer": "ipython3",
   "version": "3.11.4"
  }
 },
 "nbformat": 4,
 "nbformat_minor": 5
}
